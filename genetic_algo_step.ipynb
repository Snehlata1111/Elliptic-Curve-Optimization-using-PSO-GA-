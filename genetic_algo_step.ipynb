{
  "nbformat": 4,
  "nbformat_minor": 0,
  "metadata": {
    "colab": {
      "provenance": [],
      "include_colab_link": true
    },
    "kernelspec": {
      "name": "python3",
      "display_name": "Python 3"
    },
    "language_info": {
      "name": "python"
    }
  },
  "cells": [
    {
      "cell_type": "markdown",
      "metadata": {
        "id": "view-in-github",
        "colab_type": "text"
      },
      "source": [
        "<a href=\"https://colab.research.google.com/github/Snehlata1111/Elliptic-Curve-Optimization-using-PSO-GA-/blob/main/genetic_algo_step.ipynb\" target=\"_parent\"><img src=\"https://colab.research.google.com/assets/colab-badge.svg\" alt=\"Open In Colab\"/></a>"
      ]
    },
    {
      "cell_type": "code",
      "source": [
        "%%writefile fitness_function.py\n",
        "\n",
        "import math\n",
        "import os\n",
        "def compute_fitness(a, b, p, n, weights):\n",
        "    \"\"\"\n",
        "    Computes the fitness score of an elliptic curve based on security, attack resistance, and efficiency.\n",
        "\n",
        "    Parameters:\n",
        "        a, b (int): Elliptic curve coefficients.\n",
        "        p (int): Prime modulus.\n",
        "        n (int): Order of the curve.\n",
        "        weights (tuple): (w1, w2, w3, w4) for security, Hasse validity, attack resistance, and efficiency.\n",
        "\n",
        "    Returns:\n",
        "        float: The fitness score.\n",
        "    \"\"\"\n",
        "    w1, w2, w3, w4 = weights\n",
        "\n",
        "    # Security Strength (S_n) - Based on bit length of order 'n'\n",
        "    S_n = math.log2(n) / 256  # Normalized to [0,1] (256-bit max security)\n",
        "\n",
        "    # Hasse Validity (H_s) - Always valid for well-formed curves\n",
        "    H_s = 1.0\n",
        "\n",
        "    # Attack Resistance (A_r) - Approximate value based on security strength\n",
        "    A_r = (math.log2(n) / 256) * 0.8\n",
        "\n",
        "    # Computational Efficiency (E_c) - Inversely proportional to field size\n",
        "    E_c = 1 - (math.log2(p) / 521)  # Normalized to [0,1] (521-bit max field size)\n",
        "\n",
        "    # Final fitness score\n",
        "    fitness_score = (w1 * S_n) + (w2 * H_s) + (w3 * A_r) + (w4 * E_c)\n",
        "\n",
        "    return fitness_score"
      ],
      "metadata": {
        "colab": {
          "base_uri": "https://localhost:8080/"
        },
        "id": "5991HYVFhHnr",
        "outputId": "bf79b13e-a87e-45e2-ec61-19fb93af6bed"
      },
      "execution_count": null,
      "outputs": [
        {
          "output_type": "stream",
          "name": "stdout",
          "text": [
            "Writing fitness_function.py\n"
          ]
        }
      ]
    },
    {
      "cell_type": "code",
      "source": [],
      "metadata": {
        "id": "NP4n78r-BG4o"
      },
      "execution_count": null,
      "outputs": []
    },
    {
      "cell_type": "code",
      "source": [
        "%%writefile train_net2.py\n",
        "\n",
        "import torch\n",
        "import torch.nn as nn\n",
        "import torch.optim as optim\n",
        "\n",
        "# Loading trained Net1 model\n",
        "class Net1(nn.Module):\n",
        "    def __init__(self):\n",
        "        super(Net1, self).__init__()\n",
        "        self.fc1 = nn.Linear(4, 8)\n",
        "        self.fc2 = nn.Linear(8, 4)\n",
        "        self.relu = nn.ReLU()\n",
        "\n",
        "    def forward(self, x):\n",
        "        x = self.relu(self.fc1(x))\n",
        "        x = torch.sigmoid(self.fc2(x))\n",
        "        return x\n",
        "\n",
        "# Loading trained Net1 weights\n",
        "net1 = Net1()\n",
        "net1.load_state_dict(torch.load(\"/content/net1_weights.pth\"))\n",
        "net1.eval()\n",
        "\n",
        "# Generate baseline weights from Net1\n",
        "with torch.no_grad():\n",
        "    baseline_weights = net1(torch.tensor([[0.49, 1.0, 0.39, 0.51]], dtype=torch.float32))\n",
        "\n",
        "# ✅ Define Net2 (for system-specific tuning)\n",
        "class Net2(nn.Module):\n",
        "    def __init__(self):\n",
        "        super(Net2, self).__init__()\n",
        "        self.fc1 = nn.Linear(4, 8)\n",
        "        self.fc2 = nn.Linear(8, 4)\n",
        "        self.relu = nn.ReLU()\n",
        "\n",
        "    def forward(self, x):\n",
        "        x = self.relu(self.fc1(x))\n",
        "        x = torch.sigmoid(self.fc2(x))\n",
        "        return x\n",
        "\n",
        "# ✅ System-specific training datasets\n",
        "system_datasets = {\n",
        "    \"low_power\": torch.tensor([[0.2, 1.0, 0.1, 0.7]], dtype=torch.float32),  # Optimized for efficiency\n",
        "    \"balanced\": torch.tensor([[0.45, 1.0, 0.4, 0.45]], dtype=torch.float32),  # Balanced trade-offs\n",
        "    \"high_security\": torch.tensor([[0.7, 1.0, 0.6, 0.2]], dtype=torch.float32)  # Prioritizes security\n",
        "}\n",
        "\n",
        "# ✅ Train Net2 for each system type\n",
        "net2 = Net2()\n",
        "criterion = nn.MSELoss()\n",
        "optimizer = optim.Adam(net2.parameters(), lr=0.01)\n",
        "\n",
        "epochs = 1000\n",
        "for system, target_weights in system_datasets.items():\n",
        "    print(f\"Training Net2 for {system} system...\")\n",
        "\n",
        "    for epoch in range(epochs):\n",
        "        optimizer.zero_grad()\n",
        "        output = net2(baseline_weights)\n",
        "        loss = criterion(output, target_weights)\n",
        "        loss.backward()\n",
        "        optimizer.step()\n",
        "\n",
        "        if epoch % 100 == 0:\n",
        "            print(f\"Epoch [{epoch}/{epochs}], System: {system}, Loss: {loss.item():.6f}\")\n",
        "\n",
        "    # ✅ Save the trained Net2 model\n",
        "    model_filename = f\"/content/net2_weights_{system}.pth\"\n",
        "    torch.save(net2.state_dict(), model_filename)\n",
        "\n",
        "    print(f\"Net2 training complete for {system}. Weights saved as {model_filename}\\n\")\n"
      ],
      "metadata": {
        "colab": {
          "base_uri": "https://localhost:8080/"
        },
        "id": "f_TjH-Gz_mEI",
        "outputId": "0e2d740b-4139-4bee-8348-a58dd28b6e4f"
      },
      "execution_count": null,
      "outputs": [
        {
          "output_type": "stream",
          "name": "stdout",
          "text": [
            "Writing train_net2.py\n"
          ]
        }
      ]
    },
    {
      "cell_type": "code",
      "execution_count": null,
      "metadata": {
        "colab": {
          "base_uri": "https://localhost:8080/"
        },
        "id": "cnzvto9_cwim",
        "outputId": "c6019e1d-933f-4ddb-8de3-1a9b9f83e9c1"
      },
      "outputs": [
        {
          "output_type": "stream",
          "name": "stdout",
          "text": [
            "Writing genetic_algorithm.py\n"
          ]
        }
      ],
      "source": [
        "%%writefile genetic_algorithm.py\n",
        "\n",
        "import torch\n",
        "import random\n",
        "import numpy as np\n",
        "import torch.nn as nn\n",
        "import os\n",
        "from fitness_function import compute_fitness\n",
        "\n",
        "# Define Genetic Algorithm Parameters\n",
        "POPULATION_SIZE = 50\n",
        "GENERATIONS = 100\n",
        "MUTATION_RATE = 0.1\n",
        "SELECTION_RATE = 0.5\n",
        "\n",
        "# Define ranges for elliptic curve parameters\n",
        "P_RANGE = (2**255, 2**256 - 1)\n",
        "N_RANGE = (2**250, 2**256 - 1)\n",
        "A_RANGE = (-5, 5)\n",
        "B_RANGE = (1, 10**38)\n",
        "\n",
        "# Load Net2 and get system-specific weights\n",
        "class Net2(nn.Module):\n",
        "    def __init__(self):\n",
        "        super(Net2, self).__init__()\n",
        "        self.fc1 = nn.Linear(4, 8)\n",
        "        self.fc2 = nn.Linear(8, 4)\n",
        "        self.relu = nn.ReLU()\n",
        "\n",
        "    def forward(self, x):\n",
        "        x = self.relu(self.fc1(x))\n",
        "        x = torch.sigmoid(self.fc2(x))\n",
        "        return x\n",
        "\n",
        "def load_net2_weights(system_type):\n",
        "    weight_file = f\"/content/net2_weights_{system_type}.pth\"\n",
        "\n",
        "\n",
        "    if not os.path.exists(weight_file):\n",
        "        raise FileNotFoundError(f\" Error: Net2 weights for {system_type} not found at {weight_file}. Train Net2 first.\")\n",
        "\n",
        "    net2 = Net2()  # Use the same Net2 architecture\n",
        "    net2.load_state_dict(torch.load(weight_file, weights_only=True))\n",
        "    net2.eval()\n",
        "\n",
        "    with torch.no_grad():\n",
        "        weights = net2(torch.tensor([[0.5, 1.0, 0.25, 0.2]], dtype=torch.float32))\n",
        "\n",
        "    return weights.numpy()[0]  # Convert tensor to NumPy array\n",
        "# Initialize a random elliptic curve\n",
        "def random_curve():\n",
        "    return {\n",
        "        \"a\": random.uniform(*A_RANGE),\n",
        "        \"b\": random.uniform(*B_RANGE),\n",
        "        \"p\": random.randint(*P_RANGE),\n",
        "        \"n\": random.randint(*N_RANGE)\n",
        "    }\n",
        "\n",
        "# Evaluate fitness for a population\n",
        "def evaluate_population(population, weights):\n",
        "    return sorted(population, key=lambda curve: compute_fitness(curve[\"a\"], curve[\"b\"], curve[\"p\"], curve[\"n\"], weights), reverse=True)\n",
        "\n",
        "# Selection: Keep top % of population\n",
        "def select_top_individuals(population):\n",
        "    cutoff = int(len(population) * SELECTION_RATE)\n",
        "    return population[:cutoff]\n",
        "\n",
        "# Crossover: Generate new curves by mixing parent curves\n",
        "def crossover(parent1, parent2):\n",
        "    return {\n",
        "        \"a\": (parent1[\"a\"] + parent2[\"a\"]) / 2,\n",
        "        \"b\": (parent1[\"b\"] + parent2[\"b\"]) / 2,\n",
        "        \"p\": random.choice([parent1[\"p\"], parent2[\"p\"]]),  # Maintain prime field structure\n",
        "        \"n\": random.choice([parent1[\"n\"], parent2[\"n\"]])\n",
        "    }\n",
        "\n",
        "# Mutation: Introduce random changes to maintain diversity\n",
        "def mutate(curve):\n",
        "    if random.random() < MUTATION_RATE:\n",
        "        curve[\"a\"] += random.uniform(-0.5, 0.5)  # Slightly modify 'a'\n",
        "    if random.random() < MUTATION_RATE:\n",
        "        curve[\"b\"] += random.uniform(-10**20, 10**20)  # Modify 'b'\n",
        "    return curve\n",
        "\n",
        "# Genetic Algorithm for Curve Optimization\n",
        "def genetic_algorithm(system_type):\n",
        "    print(f\"\\nRunning GA for {system_type.capitalize()} System...\")\n",
        "    weights = load_net2_weights(system_type)\n",
        "\n",
        "    # Initialize population\n",
        "    population = [random_curve() for _ in range(POPULATION_SIZE)]\n",
        "\n",
        "    for generation in range(GENERATIONS):\n",
        "        # Evaluate fitness\n",
        "        population = evaluate_population(population, weights)\n",
        "\n",
        "        # Select top individuals\n",
        "        selected = select_top_individuals(population)\n",
        "\n",
        "        # Generate new offspring via crossover\n",
        "        new_population = selected[:]\n",
        "        while len(new_population) < POPULATION_SIZE:\n",
        "            parent1, parent2 = random.sample(selected, 2)\n",
        "            offspring = mutate(crossover(parent1, parent2))\n",
        "            new_population.append(offspring)\n",
        "\n",
        "        population = new_population\n",
        "\n",
        "        # Print best curve every 10 generations\n",
        "        if generation % 10 == 0:\n",
        "            best_curve = population[0]\n",
        "            best_fitness = compute_fitness(best_curve[\"a\"], best_curve[\"b\"], best_curve[\"p\"], best_curve[\"n\"], weights)\n",
        "            print(f\"Gen {generation}: Best Fitness = {best_fitness:.6f}\")\n",
        "\n",
        "    # Return best curve found\n",
        "    best_curve = population[0]\n",
        "    print(\"\\nFinal Best Curve:\")\n",
        "    print(best_curve)\n",
        "    return best_curve\n",
        "\n",
        "# Run GA for all system types\n",
        "best_curves = {}\n",
        "for system in [\"low_power\", \"balanced\", \"high_security\"]:\n",
        "    best_curves[system] = genetic_algorithm(system)\n",
        "\n",
        "# Save the best curves for future testing\n",
        "import json\n",
        "with open(\"/content/best_curves.json\", \"w\") as f:\n",
        "    json.dump(best_curves, f, indent=4)\n",
        "\n",
        "print(\"\\nBest curves saved in /content/best_curves.json\")\n",
        "\n"
      ]
    },
    {
      "cell_type": "code",
      "source": [
        "!python genetic_algorithm.py\n"
      ],
      "metadata": {
        "id": "QYghL5l2dbTn",
        "colab": {
          "base_uri": "https://localhost:8080/"
        },
        "outputId": "6a03f470-4f87-4059-a838-d6257af050b6"
      },
      "execution_count": null,
      "outputs": [
        {
          "output_type": "stream",
          "name": "stdout",
          "text": [
            "\n",
            "Running GA for Low_power System...\n",
            "Traceback (most recent call last):\n",
            "  File \"/content/genetic_algorithm.py\", line 123, in <module>\n",
            "    best_curves[system] = genetic_algorithm(system)\n",
            "                          ^^^^^^^^^^^^^^^^^^^^^^^^^\n",
            "  File \"/content/genetic_algorithm.py\", line 87, in genetic_algorithm\n",
            "    weights = load_net2_weights(system_type)\n",
            "              ^^^^^^^^^^^^^^^^^^^^^^^^^^^^^^\n",
            "  File \"/content/genetic_algorithm.py\", line 39, in load_net2_weights\n",
            "    raise FileNotFoundError(f\" Error: Net2 weights for {system_type} not found at {weight_file}. Train Net2 first.\")\n",
            "FileNotFoundError:  Error: Net2 weights for low_power not found at /content/net2_weights_low_power.pth. Train Net2 first.\n"
          ]
        }
      ]
    },
    {
      "cell_type": "code",
      "source": [
        "import os\n",
        "\n",
        "for system in [\"low_power\", \"balanced\", \"high_security\"]:\n",
        "    file_path = f\"/content/net2_weights_{system}.pth\"\n",
        "    print(f\"{file_path}: {'Exists' if os.path.exists(file_path) else 'Missing'}\")"
      ],
      "metadata": {
        "colab": {
          "base_uri": "https://localhost:8080/"
        },
        "id": "blotdXdDg-YB",
        "outputId": "efb6479c-6b18-4307-b80e-920d0945fc49"
      },
      "execution_count": null,
      "outputs": [
        {
          "output_type": "stream",
          "name": "stdout",
          "text": [
            "/content/net2_weights_low_power.pth: Missing\n",
            "/content/net2_weights_balanced.pth: Missing\n",
            "/content/net2_weights_high_security.pth: Missing\n"
          ]
        }
      ]
    },
    {
      "cell_type": "code",
      "source": [
        "!python train_net2.py\n"
      ],
      "metadata": {
        "colab": {
          "base_uri": "https://localhost:8080/"
        },
        "id": "To8wT1bh_w3P",
        "outputId": "f7dec96f-c753-4d77-b464-3b32d3788aee"
      },
      "execution_count": null,
      "outputs": [
        {
          "output_type": "stream",
          "name": "stdout",
          "text": [
            "Traceback (most recent call last):\n",
            "  File \"/content/train_net2.py\", line 21, in <module>\n",
            "    net1.load_state_dict(torch.load(\"/content/net1_weights.pth\"))\n",
            "                         ^^^^^^^^^^^^^^^^^^^^^^^^^^^^^^^^^^^^^^^\n",
            "  File \"/usr/local/lib/python3.11/dist-packages/torch/serialization.py\", line 1425, in load\n",
            "    with _open_file_like(f, \"rb\") as opened_file:\n",
            "         ^^^^^^^^^^^^^^^^^^^^^^^^\n",
            "  File \"/usr/local/lib/python3.11/dist-packages/torch/serialization.py\", line 751, in _open_file_like\n",
            "    return _open_file(name_or_buffer, mode)\n",
            "           ^^^^^^^^^^^^^^^^^^^^^^^^^^^^^^^^\n",
            "  File \"/usr/local/lib/python3.11/dist-packages/torch/serialization.py\", line 732, in __init__\n",
            "    super().__init__(open(name, mode))\n",
            "                     ^^^^^^^^^^^^^^^^\n",
            "FileNotFoundError: [Errno 2] No such file or directory: '/content/net1_weights.pth'\n"
          ]
        }
      ]
    },
    {
      "cell_type": "code",
      "source": [],
      "metadata": {
        "id": "97sLORdt_djn"
      },
      "execution_count": null,
      "outputs": []
    }
  ]
}